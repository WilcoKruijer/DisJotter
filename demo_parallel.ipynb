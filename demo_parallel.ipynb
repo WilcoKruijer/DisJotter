{
 "cells": [
  {
   "cell_type": "code",
   "execution_count": 6,
   "id": "501623b0-f272-48dd-a783-d01b47de1468",
   "metadata": {},
   "outputs": [],
   "source": [
    "# Demo Step 1\n",
    "\n",
    "var_1 = 35"
   ]
  },
  {
   "cell_type": "code",
   "execution_count": 7,
   "id": "9a86e53e-92d2-45f9-9aaf-23fd2e7a8725",
   "metadata": {},
   "outputs": [],
   "source": [
    "# Demo Step 2\n",
    "\n",
    "var_2 = 51"
   ]
  },
  {
   "cell_type": "code",
   "execution_count": 8,
   "id": "7f29212d-2869-4cea-bb09-5f697047874a",
   "metadata": {},
   "outputs": [],
   "source": [
    "# Demo Step 3\n",
    "\n",
    "var_3 = var_1 + var_2"
   ]
  },
  {
   "cell_type": "code",
   "execution_count": 9,
   "id": "d80f51bb-cbff-4166-a2ac-685acc996e98",
   "metadata": {},
   "outputs": [],
   "source": [
    "# Demo Step 4\n",
    "\n",
    "var_4 = var_1 * var_2"
   ]
  },
  {
   "cell_type": "code",
   "execution_count": 10,
   "id": "5b2bbc8c-f3ed-45e2-88b8-f6cfe4dd0c92",
   "metadata": {},
   "outputs": [],
   "source": [
    "# Demo Step 5\n",
    "\n",
    "var_5 = var_4 + var_3"
   ]
  },
  {
   "cell_type": "code",
   "execution_count": 1,
   "id": "96ee27c6-9fc2-4b5d-bd3c-bf1bac51f72e",
   "metadata": {},
   "outputs": [],
   "source": [
    "# Demo Step 6 distribute A\n",
    "\n",
    "ll_sum = [34, 59, 28, 67, 19, 88, 75, 43, 91]"
   ]
  },
  {
   "cell_type": "code",
   "execution_count": 2,
   "id": "02a64e48-4da4-4ab9-b593-07bcf88d9489",
   "metadata": {},
   "outputs": [
    {
     "ename": "NameError",
     "evalue": "name 'var_5' is not defined",
     "output_type": "error",
     "traceback": [
      "\u001b[0;31m---------------------------------------------------------------------------\u001b[0m",
      "\u001b[0;31mNameError\u001b[0m                                 Traceback (most recent call last)",
      "\u001b[0;32m<ipython-input-2-e2ef46e63b0c>\u001b[0m in \u001b[0;36m<module>\u001b[0;34m\u001b[0m\n\u001b[1;32m      1\u001b[0m \u001b[0;31m# Demo Step 6 distribute\u001b[0m\u001b[0;34m\u001b[0m\u001b[0;34m\u001b[0m\u001b[0;34m\u001b[0m\u001b[0m\n\u001b[1;32m      2\u001b[0m \u001b[0;34m\u001b[0m\u001b[0m\n\u001b[0;32m----> 3\u001b[0;31m \u001b[0mres\u001b[0m \u001b[0;34m=\u001b[0m \u001b[0mll_sum\u001b[0m \u001b[0;34m+\u001b[0m \u001b[0mvar_5\u001b[0m\u001b[0;34m\u001b[0m\u001b[0;34m\u001b[0m\u001b[0m\n\u001b[0m",
      "\u001b[0;31mNameError\u001b[0m: name 'var_5' is not defined"
     ]
    }
   ],
   "source": [
    "# Demo Step 6 distribute B\n",
    "\n",
    "res = ll_sum + var_5"
   ]
  },
  {
   "cell_type": "code",
   "execution_count": null,
   "id": "2e2e2c94-5fcf-4a26-ad58-d92acdc366bb",
   "metadata": {},
   "outputs": [],
   "source": [
    "print(res)"
   ]
  }
 ],
 "metadata": {
  "kernelspec": {
   "display_name": "Python 3",
   "language": "python",
   "name": "python3"
  },
  "language_info": {
   "codemirror_mode": {
    "name": "ipython",
    "version": 3
   },
   "file_extension": ".py",
   "mimetype": "text/x-python",
   "name": "python",
   "nbconvert_exporter": "python",
   "pygments_lexer": "ipython3",
   "version": "3.9.2"
  }
 },
 "nbformat": 4,
 "nbformat_minor": 5
}
