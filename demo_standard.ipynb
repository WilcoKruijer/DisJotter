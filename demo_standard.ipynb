{
 "cells": [
  {
   "cell_type": "code",
   "execution_count": 6,
   "id": "501623b0-f272-48dd-a783-d01b47de1468",
   "metadata": {},
   "outputs": [],
   "source": [
    "# Demo Step 1\n",
    "\n",
    "var_1 = 35"
   ]
  },
  {
   "cell_type": "code",
   "execution_count": 7,
   "id": "9a86e53e-92d2-45f9-9aaf-23fd2e7a8725",
   "metadata": {},
   "outputs": [],
   "source": [
    "# Demo Step 2\n",
    "\n",
    "var_2 = 51"
   ]
  },
  {
   "cell_type": "code",
   "execution_count": 8,
   "id": "7f29212d-2869-4cea-bb09-5f697047874a",
   "metadata": {},
   "outputs": [],
   "source": [
    "# Demo Step 3\n",
    "\n",
    "var_3 = var_1 + var_2"
   ]
  },
  {
   "cell_type": "code",
   "execution_count": 9,
   "id": "d80f51bb-cbff-4166-a2ac-685acc996e98",
   "metadata": {},
   "outputs": [],
   "source": [
    "# Demo Step 4\n",
    "\n",
    "var_4 = var_1 * var_2"
   ]
  },
  {
   "cell_type": "code",
   "execution_count": 10,
   "id": "5b2bbc8c-f3ed-45e2-88b8-f6cfe4dd0c92",
   "metadata": {},
   "outputs": [],
   "source": [
    "# Demo Step 5\n",
    "\n",
    "var_5 = var_4 + var_3"
   ]
  },
  {
   "cell_type": "code",
   "execution_count": 13,
   "id": "96ee27c6-9fc2-4b5d-bd3c-bf1bac51f72e",
   "metadata": {},
   "outputs": [],
   "source": [
    "# Demo Step 6 linear\n",
    "\n",
    "res = []\n",
    "ll_sum = [34, 59, 28, 67, 19, 88, 75, 43, 91]\n",
    "for i in ll_sum:\n",
    "    res.append(i + var_5)"
   ]
  },
  {
   "cell_type": "code",
   "execution_count": null,
   "id": "02a64e48-4da4-4ab9-b593-07bcf88d9489",
   "metadata": {},
   "outputs": [],
   "source": [
    "print(res)"
   ]
  }
 ],
 "metadata": {
  "kernelspec": {
   "display_name": "Python 3",
   "language": "python",
   "name": "python3"
  },
  "language_info": {
   "codemirror_mode": {
    "name": "ipython",
    "version": 3
   },
   "file_extension": ".py",
   "mimetype": "text/x-python",
   "name": "python",
   "nbconvert_exporter": "python",
   "pygments_lexer": "ipython3",
   "version": "3.9.2"
  }
 },
 "nbformat": 4,
 "nbformat_minor": 5
}
